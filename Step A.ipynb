{
 "cells": [
  {
   "cell_type": "code",
   "execution_count": 18,
   "metadata": {},
   "outputs": [
    {
     "name": "stdout",
     "output_type": "stream",
     "text": [
      "Requirement already satisfied: numpy in /Library/Frameworks/Python.framework/Versions/3.11/lib/python3.11/site-packages (1.26.3)\n",
      "Requirement already satisfied: scikit-learn in /Library/Frameworks/Python.framework/Versions/3.11/lib/python3.11/site-packages (1.4.0)\n",
      "Requirement already satisfied: keras in /Library/Frameworks/Python.framework/Versions/3.11/lib/python3.11/site-packages (2.15.0)\n",
      "Requirement already satisfied: scipy>=1.6.0 in /Library/Frameworks/Python.framework/Versions/3.11/lib/python3.11/site-packages (from scikit-learn) (1.12.0)\n",
      "Requirement already satisfied: joblib>=1.2.0 in /Library/Frameworks/Python.framework/Versions/3.11/lib/python3.11/site-packages (from scikit-learn) (1.3.2)\n",
      "Requirement already satisfied: threadpoolctl>=2.0.0 in /Library/Frameworks/Python.framework/Versions/3.11/lib/python3.11/site-packages (from scikit-learn) (3.2.0)\n",
      "Note: you may need to restart the kernel to use updated packages.\n"
     ]
    }
   ],
   "source": [
    "%pip install numpy scikit-learn keras"
   ]
  },
  {
   "cell_type": "code",
   "execution_count": 19,
   "metadata": {},
   "outputs": [],
   "source": [
    "import pandas as pd\n",
    "import numpy as np"
   ]
  },
  {
   "cell_type": "code",
   "execution_count": 20,
   "metadata": {},
   "outputs": [
    {
     "name": "stdout",
     "output_type": "stream",
     "text": [
      "   Cement  Blast Furnace Slag  Fly Ash  Water  Superplasticizer  \\\n",
      "0   540.0                 0.0      0.0  162.0               2.5   \n",
      "1   540.0                 0.0      0.0  162.0               2.5   \n",
      "2   332.5               142.5      0.0  228.0               0.0   \n",
      "3   332.5               142.5      0.0  228.0               0.0   \n",
      "4   198.6               132.4      0.0  192.0               0.0   \n",
      "\n",
      "   Coarse Aggregate  Fine Aggregate  Age  Strength  \n",
      "0            1040.0           676.0   28     79.99  \n",
      "1            1055.0           676.0   28     61.89  \n",
      "2             932.0           594.0  270     40.27  \n",
      "3             932.0           594.0  365     41.05  \n",
      "4             978.4           825.5  360     44.30  \n"
     ]
    }
   ],
   "source": [
    "import ssl\n",
    "import pandas as pd\n",
    "\n",
    "# Create an unverified SSL context\n",
    "ssl._create_default_https_context = ssl._create_unverified_context\n",
    "\n",
    "# Load the CSV file\n",
    "concrete_data = pd.read_csv('https://s3-api.us-geo.objectstorage.softlayer.net/cf-courses-data/CognitiveClass/DL0101EN/labs/data/concrete_data.csv')\n",
    "print(concrete_data.head())\n"
   ]
  },
  {
   "cell_type": "code",
   "execution_count": 21,
   "metadata": {},
   "outputs": [
    {
     "data": {
      "text/plain": [
       "(1030, 9)"
      ]
     },
     "execution_count": 21,
     "metadata": {},
     "output_type": "execute_result"
    }
   ],
   "source": [
    "concrete_data.shape"
   ]
  },
  {
   "cell_type": "code",
   "execution_count": 22,
   "metadata": {},
   "outputs": [
    {
     "data": {
      "text/html": [
       "<div>\n",
       "<style scoped>\n",
       "    .dataframe tbody tr th:only-of-type {\n",
       "        vertical-align: middle;\n",
       "    }\n",
       "\n",
       "    .dataframe tbody tr th {\n",
       "        vertical-align: top;\n",
       "    }\n",
       "\n",
       "    .dataframe thead th {\n",
       "        text-align: right;\n",
       "    }\n",
       "</style>\n",
       "<table border=\"1\" class=\"dataframe\">\n",
       "  <thead>\n",
       "    <tr style=\"text-align: right;\">\n",
       "      <th></th>\n",
       "      <th>Cement</th>\n",
       "      <th>Blast Furnace Slag</th>\n",
       "      <th>Fly Ash</th>\n",
       "      <th>Water</th>\n",
       "      <th>Superplasticizer</th>\n",
       "      <th>Coarse Aggregate</th>\n",
       "      <th>Fine Aggregate</th>\n",
       "      <th>Age</th>\n",
       "      <th>Strength</th>\n",
       "    </tr>\n",
       "  </thead>\n",
       "  <tbody>\n",
       "    <tr>\n",
       "      <th>count</th>\n",
       "      <td>1030.000000</td>\n",
       "      <td>1030.000000</td>\n",
       "      <td>1030.000000</td>\n",
       "      <td>1030.000000</td>\n",
       "      <td>1030.000000</td>\n",
       "      <td>1030.000000</td>\n",
       "      <td>1030.000000</td>\n",
       "      <td>1030.000000</td>\n",
       "      <td>1030.000000</td>\n",
       "    </tr>\n",
       "    <tr>\n",
       "      <th>mean</th>\n",
       "      <td>281.167864</td>\n",
       "      <td>73.895825</td>\n",
       "      <td>54.188350</td>\n",
       "      <td>181.567282</td>\n",
       "      <td>6.204660</td>\n",
       "      <td>972.918932</td>\n",
       "      <td>773.580485</td>\n",
       "      <td>45.662136</td>\n",
       "      <td>35.817961</td>\n",
       "    </tr>\n",
       "    <tr>\n",
       "      <th>std</th>\n",
       "      <td>104.506364</td>\n",
       "      <td>86.279342</td>\n",
       "      <td>63.997004</td>\n",
       "      <td>21.354219</td>\n",
       "      <td>5.973841</td>\n",
       "      <td>77.753954</td>\n",
       "      <td>80.175980</td>\n",
       "      <td>63.169912</td>\n",
       "      <td>16.705742</td>\n",
       "    </tr>\n",
       "    <tr>\n",
       "      <th>min</th>\n",
       "      <td>102.000000</td>\n",
       "      <td>0.000000</td>\n",
       "      <td>0.000000</td>\n",
       "      <td>121.800000</td>\n",
       "      <td>0.000000</td>\n",
       "      <td>801.000000</td>\n",
       "      <td>594.000000</td>\n",
       "      <td>1.000000</td>\n",
       "      <td>2.330000</td>\n",
       "    </tr>\n",
       "    <tr>\n",
       "      <th>25%</th>\n",
       "      <td>192.375000</td>\n",
       "      <td>0.000000</td>\n",
       "      <td>0.000000</td>\n",
       "      <td>164.900000</td>\n",
       "      <td>0.000000</td>\n",
       "      <td>932.000000</td>\n",
       "      <td>730.950000</td>\n",
       "      <td>7.000000</td>\n",
       "      <td>23.710000</td>\n",
       "    </tr>\n",
       "    <tr>\n",
       "      <th>50%</th>\n",
       "      <td>272.900000</td>\n",
       "      <td>22.000000</td>\n",
       "      <td>0.000000</td>\n",
       "      <td>185.000000</td>\n",
       "      <td>6.400000</td>\n",
       "      <td>968.000000</td>\n",
       "      <td>779.500000</td>\n",
       "      <td>28.000000</td>\n",
       "      <td>34.445000</td>\n",
       "    </tr>\n",
       "    <tr>\n",
       "      <th>75%</th>\n",
       "      <td>350.000000</td>\n",
       "      <td>142.950000</td>\n",
       "      <td>118.300000</td>\n",
       "      <td>192.000000</td>\n",
       "      <td>10.200000</td>\n",
       "      <td>1029.400000</td>\n",
       "      <td>824.000000</td>\n",
       "      <td>56.000000</td>\n",
       "      <td>46.135000</td>\n",
       "    </tr>\n",
       "    <tr>\n",
       "      <th>max</th>\n",
       "      <td>540.000000</td>\n",
       "      <td>359.400000</td>\n",
       "      <td>200.100000</td>\n",
       "      <td>247.000000</td>\n",
       "      <td>32.200000</td>\n",
       "      <td>1145.000000</td>\n",
       "      <td>992.600000</td>\n",
       "      <td>365.000000</td>\n",
       "      <td>82.600000</td>\n",
       "    </tr>\n",
       "  </tbody>\n",
       "</table>\n",
       "</div>"
      ],
      "text/plain": [
       "            Cement  Blast Furnace Slag      Fly Ash        Water  \\\n",
       "count  1030.000000         1030.000000  1030.000000  1030.000000   \n",
       "mean    281.167864           73.895825    54.188350   181.567282   \n",
       "std     104.506364           86.279342    63.997004    21.354219   \n",
       "min     102.000000            0.000000     0.000000   121.800000   \n",
       "25%     192.375000            0.000000     0.000000   164.900000   \n",
       "50%     272.900000           22.000000     0.000000   185.000000   \n",
       "75%     350.000000          142.950000   118.300000   192.000000   \n",
       "max     540.000000          359.400000   200.100000   247.000000   \n",
       "\n",
       "       Superplasticizer  Coarse Aggregate  Fine Aggregate          Age  \\\n",
       "count       1030.000000       1030.000000     1030.000000  1030.000000   \n",
       "mean           6.204660        972.918932      773.580485    45.662136   \n",
       "std            5.973841         77.753954       80.175980    63.169912   \n",
       "min            0.000000        801.000000      594.000000     1.000000   \n",
       "25%            0.000000        932.000000      730.950000     7.000000   \n",
       "50%            6.400000        968.000000      779.500000    28.000000   \n",
       "75%           10.200000       1029.400000      824.000000    56.000000   \n",
       "max           32.200000       1145.000000      992.600000   365.000000   \n",
       "\n",
       "          Strength  \n",
       "count  1030.000000  \n",
       "mean     35.817961  \n",
       "std      16.705742  \n",
       "min       2.330000  \n",
       "25%      23.710000  \n",
       "50%      34.445000  \n",
       "75%      46.135000  \n",
       "max      82.600000  "
      ]
     },
     "execution_count": 22,
     "metadata": {},
     "output_type": "execute_result"
    }
   ],
   "source": [
    "concrete_data.describe()\n"
   ]
  },
  {
   "cell_type": "code",
   "execution_count": 23,
   "metadata": {},
   "outputs": [
    {
     "data": {
      "text/plain": [
       "Cement                0\n",
       "Blast Furnace Slag    0\n",
       "Fly Ash               0\n",
       "Water                 0\n",
       "Superplasticizer      0\n",
       "Coarse Aggregate      0\n",
       "Fine Aggregate        0\n",
       "Age                   0\n",
       "Strength              0\n",
       "dtype: int64"
      ]
     },
     "execution_count": 23,
     "metadata": {},
     "output_type": "execute_result"
    }
   ],
   "source": [
    "concrete_data.isnull().sum()"
   ]
  },
  {
   "cell_type": "code",
   "execution_count": 24,
   "metadata": {},
   "outputs": [],
   "source": [
    "concrete_data_columns = concrete_data.columns\n",
    "\n",
    "predictors = concrete_data[concrete_data_columns[concrete_data_columns != 'Strength']] \n",
    "target = concrete_data['Strength'] "
   ]
  },
  {
   "cell_type": "code",
   "execution_count": 25,
   "metadata": {},
   "outputs": [
    {
     "data": {
      "text/html": [
       "<div>\n",
       "<style scoped>\n",
       "    .dataframe tbody tr th:only-of-type {\n",
       "        vertical-align: middle;\n",
       "    }\n",
       "\n",
       "    .dataframe tbody tr th {\n",
       "        vertical-align: top;\n",
       "    }\n",
       "\n",
       "    .dataframe thead th {\n",
       "        text-align: right;\n",
       "    }\n",
       "</style>\n",
       "<table border=\"1\" class=\"dataframe\">\n",
       "  <thead>\n",
       "    <tr style=\"text-align: right;\">\n",
       "      <th></th>\n",
       "      <th>Cement</th>\n",
       "      <th>Blast Furnace Slag</th>\n",
       "      <th>Fly Ash</th>\n",
       "      <th>Water</th>\n",
       "      <th>Superplasticizer</th>\n",
       "      <th>Coarse Aggregate</th>\n",
       "      <th>Fine Aggregate</th>\n",
       "      <th>Age</th>\n",
       "    </tr>\n",
       "  </thead>\n",
       "  <tbody>\n",
       "    <tr>\n",
       "      <th>0</th>\n",
       "      <td>540.0</td>\n",
       "      <td>0.0</td>\n",
       "      <td>0.0</td>\n",
       "      <td>162.0</td>\n",
       "      <td>2.5</td>\n",
       "      <td>1040.0</td>\n",
       "      <td>676.0</td>\n",
       "      <td>28</td>\n",
       "    </tr>\n",
       "    <tr>\n",
       "      <th>1</th>\n",
       "      <td>540.0</td>\n",
       "      <td>0.0</td>\n",
       "      <td>0.0</td>\n",
       "      <td>162.0</td>\n",
       "      <td>2.5</td>\n",
       "      <td>1055.0</td>\n",
       "      <td>676.0</td>\n",
       "      <td>28</td>\n",
       "    </tr>\n",
       "    <tr>\n",
       "      <th>2</th>\n",
       "      <td>332.5</td>\n",
       "      <td>142.5</td>\n",
       "      <td>0.0</td>\n",
       "      <td>228.0</td>\n",
       "      <td>0.0</td>\n",
       "      <td>932.0</td>\n",
       "      <td>594.0</td>\n",
       "      <td>270</td>\n",
       "    </tr>\n",
       "    <tr>\n",
       "      <th>3</th>\n",
       "      <td>332.5</td>\n",
       "      <td>142.5</td>\n",
       "      <td>0.0</td>\n",
       "      <td>228.0</td>\n",
       "      <td>0.0</td>\n",
       "      <td>932.0</td>\n",
       "      <td>594.0</td>\n",
       "      <td>365</td>\n",
       "    </tr>\n",
       "    <tr>\n",
       "      <th>4</th>\n",
       "      <td>198.6</td>\n",
       "      <td>132.4</td>\n",
       "      <td>0.0</td>\n",
       "      <td>192.0</td>\n",
       "      <td>0.0</td>\n",
       "      <td>978.4</td>\n",
       "      <td>825.5</td>\n",
       "      <td>360</td>\n",
       "    </tr>\n",
       "  </tbody>\n",
       "</table>\n",
       "</div>"
      ],
      "text/plain": [
       "   Cement  Blast Furnace Slag  Fly Ash  Water  Superplasticizer  \\\n",
       "0   540.0                 0.0      0.0  162.0               2.5   \n",
       "1   540.0                 0.0      0.0  162.0               2.5   \n",
       "2   332.5               142.5      0.0  228.0               0.0   \n",
       "3   332.5               142.5      0.0  228.0               0.0   \n",
       "4   198.6               132.4      0.0  192.0               0.0   \n",
       "\n",
       "   Coarse Aggregate  Fine Aggregate  Age  \n",
       "0            1040.0           676.0   28  \n",
       "1            1055.0           676.0   28  \n",
       "2             932.0           594.0  270  \n",
       "3             932.0           594.0  365  \n",
       "4             978.4           825.5  360  "
      ]
     },
     "execution_count": 25,
     "metadata": {},
     "output_type": "execute_result"
    }
   ],
   "source": [
    "predictors.head()"
   ]
  },
  {
   "cell_type": "code",
   "execution_count": 26,
   "metadata": {},
   "outputs": [
    {
     "data": {
      "text/plain": [
       "0    79.99\n",
       "1    61.89\n",
       "2    40.27\n",
       "3    41.05\n",
       "4    44.30\n",
       "Name: Strength, dtype: float64"
      ]
     },
     "execution_count": 26,
     "metadata": {},
     "output_type": "execute_result"
    }
   ],
   "source": [
    "target.head()"
   ]
  },
  {
   "cell_type": "code",
   "execution_count": 27,
   "metadata": {},
   "outputs": [],
   "source": [
    "n_cols = predictors.shape[1] # number of predictors"
   ]
  },
  {
   "cell_type": "code",
   "execution_count": 28,
   "metadata": {},
   "outputs": [],
   "source": [
    "import keras"
   ]
  },
  {
   "cell_type": "code",
   "execution_count": 29,
   "metadata": {},
   "outputs": [],
   "source": [
    "from keras.models import Sequential\n",
    "from keras.layers import Dense"
   ]
  },
  {
   "cell_type": "code",
   "execution_count": 30,
   "metadata": {},
   "outputs": [],
   "source": [
    "def regression_model():\n",
    "    # create model\n",
    "    model = Sequential()\n",
    "    model.add(Dense(10, activation='relu', input_shape=(n_cols,)))\n",
    "    model.add(Dense(1))\n",
    "    \n",
    "    # compile model\n",
    "    model.compile(optimizer='adam', loss='mean_squared_error')\n",
    "    return model"
   ]
  },
  {
   "cell_type": "code",
   "execution_count": 31,
   "metadata": {},
   "outputs": [],
   "source": [
    "model = regression_model()"
   ]
  },
  {
   "cell_type": "code",
   "execution_count": 32,
   "metadata": {},
   "outputs": [
    {
     "name": "stdout",
     "output_type": "stream",
     "text": [
      "Epoch 1/50\n",
      "23/23 - 0s - loss: 24925.1543 - val_loss: 8003.4849 - 166ms/epoch - 7ms/step\n",
      "Epoch 2/50\n",
      "23/23 - 0s - loss: 4237.9058 - val_loss: 1080.4333 - 18ms/epoch - 780us/step\n",
      "Epoch 3/50\n",
      "23/23 - 0s - loss: 1614.2488 - val_loss: 1103.7622 - 18ms/epoch - 765us/step\n",
      "Epoch 4/50\n",
      "23/23 - 0s - loss: 1463.7059 - val_loss: 900.8234 - 17ms/epoch - 751us/step\n",
      "Epoch 5/50\n",
      "23/23 - 0s - loss: 1254.1620 - val_loss: 840.0045 - 17ms/epoch - 730us/step\n",
      "Epoch 6/50\n",
      "23/23 - 0s - loss: 1106.0580 - val_loss: 797.9910 - 17ms/epoch - 719us/step\n",
      "Epoch 7/50\n",
      "23/23 - 0s - loss: 990.3754 - val_loss: 753.2322 - 17ms/epoch - 725us/step\n",
      "Epoch 8/50\n",
      "23/23 - 0s - loss: 887.4241 - val_loss: 707.0695 - 17ms/epoch - 732us/step\n",
      "Epoch 9/50\n",
      "23/23 - 0s - loss: 797.5958 - val_loss: 678.3645 - 17ms/epoch - 730us/step\n",
      "Epoch 10/50\n",
      "23/23 - 0s - loss: 720.3870 - val_loss: 651.8292 - 17ms/epoch - 719us/step\n",
      "Epoch 11/50\n",
      "23/23 - 0s - loss: 652.2949 - val_loss: 645.3965 - 17ms/epoch - 722us/step\n",
      "Epoch 12/50\n",
      "23/23 - 0s - loss: 591.9988 - val_loss: 583.0774 - 17ms/epoch - 729us/step\n",
      "Epoch 13/50\n",
      "23/23 - 0s - loss: 540.5001 - val_loss: 566.0592 - 17ms/epoch - 730us/step\n",
      "Epoch 14/50\n",
      "23/23 - 0s - loss: 491.9216 - val_loss: 542.8976 - 17ms/epoch - 721us/step\n",
      "Epoch 15/50\n",
      "23/23 - 0s - loss: 454.0477 - val_loss: 520.6035 - 19ms/epoch - 827us/step\n",
      "Epoch 16/50\n",
      "23/23 - 0s - loss: 418.8564 - val_loss: 501.1549 - 19ms/epoch - 827us/step\n",
      "Epoch 17/50\n",
      "23/23 - 0s - loss: 386.0821 - val_loss: 455.5887 - 18ms/epoch - 799us/step\n",
      "Epoch 18/50\n",
      "23/23 - 0s - loss: 356.3128 - val_loss: 436.6105 - 19ms/epoch - 812us/step\n",
      "Epoch 19/50\n",
      "23/23 - 0s - loss: 332.6185 - val_loss: 414.9382 - 19ms/epoch - 828us/step\n",
      "Epoch 20/50\n",
      "23/23 - 0s - loss: 312.6103 - val_loss: 371.2350 - 18ms/epoch - 802us/step\n",
      "Epoch 21/50\n",
      "23/23 - 0s - loss: 293.3351 - val_loss: 365.0493 - 19ms/epoch - 822us/step\n",
      "Epoch 22/50\n",
      "23/23 - 0s - loss: 273.6056 - val_loss: 331.7531 - 19ms/epoch - 834us/step\n",
      "Epoch 23/50\n",
      "23/23 - 0s - loss: 259.5210 - val_loss: 309.9200 - 19ms/epoch - 817us/step\n",
      "Epoch 24/50\n",
      "23/23 - 0s - loss: 245.9100 - val_loss: 289.1560 - 19ms/epoch - 805us/step\n",
      "Epoch 25/50\n",
      "23/23 - 0s - loss: 233.5017 - val_loss: 279.0422 - 19ms/epoch - 808us/step\n",
      "Epoch 26/50\n",
      "23/23 - 0s - loss: 221.3015 - val_loss: 255.4995 - 19ms/epoch - 806us/step\n",
      "Epoch 27/50\n",
      "23/23 - 0s - loss: 217.3909 - val_loss: 234.7297 - 19ms/epoch - 831us/step\n",
      "Epoch 28/50\n",
      "23/23 - 0s - loss: 206.3848 - val_loss: 222.5794 - 19ms/epoch - 812us/step\n",
      "Epoch 29/50\n",
      "23/23 - 0s - loss: 197.2362 - val_loss: 212.7174 - 19ms/epoch - 834us/step\n",
      "Epoch 30/50\n",
      "23/23 - 0s - loss: 190.6145 - val_loss: 204.6275 - 18ms/epoch - 793us/step\n",
      "Epoch 31/50\n",
      "23/23 - 0s - loss: 184.5482 - val_loss: 186.6287 - 18ms/epoch - 792us/step\n",
      "Epoch 32/50\n",
      "23/23 - 0s - loss: 181.6511 - val_loss: 194.8010 - 19ms/epoch - 812us/step\n",
      "Epoch 33/50\n",
      "23/23 - 0s - loss: 178.7163 - val_loss: 186.2391 - 20ms/epoch - 854us/step\n",
      "Epoch 34/50\n",
      "23/23 - 0s - loss: 172.2176 - val_loss: 182.9893 - 20ms/epoch - 871us/step\n",
      "Epoch 35/50\n",
      "23/23 - 0s - loss: 167.0095 - val_loss: 151.9604 - 20ms/epoch - 857us/step\n",
      "Epoch 36/50\n",
      "23/23 - 0s - loss: 165.0266 - val_loss: 141.2071 - 18ms/epoch - 788us/step\n",
      "Epoch 37/50\n",
      "23/23 - 0s - loss: 163.0554 - val_loss: 147.6143 - 18ms/epoch - 780us/step\n",
      "Epoch 38/50\n",
      "23/23 - 0s - loss: 159.4749 - val_loss: 143.0810 - 18ms/epoch - 777us/step\n",
      "Epoch 39/50\n",
      "23/23 - 0s - loss: 155.6922 - val_loss: 143.0213 - 20ms/epoch - 854us/step\n",
      "Epoch 40/50\n",
      "23/23 - 0s - loss: 155.6598 - val_loss: 123.1411 - 19ms/epoch - 818us/step\n",
      "Epoch 41/50\n",
      "23/23 - 0s - loss: 153.1530 - val_loss: 126.3525 - 18ms/epoch - 791us/step\n",
      "Epoch 42/50\n",
      "23/23 - 0s - loss: 150.3626 - val_loss: 126.0277 - 18ms/epoch - 773us/step\n",
      "Epoch 43/50\n",
      "23/23 - 0s - loss: 149.1251 - val_loss: 115.8983 - 18ms/epoch - 776us/step\n",
      "Epoch 44/50\n",
      "23/23 - 0s - loss: 148.6800 - val_loss: 115.7382 - 18ms/epoch - 768us/step\n",
      "Epoch 45/50\n",
      "23/23 - 0s - loss: 148.5000 - val_loss: 116.6048 - 18ms/epoch - 789us/step\n",
      "Epoch 46/50\n",
      "23/23 - 0s - loss: 144.7317 - val_loss: 101.7042 - 18ms/epoch - 788us/step\n",
      "Epoch 47/50\n",
      "23/23 - 0s - loss: 145.0976 - val_loss: 108.0480 - 18ms/epoch - 799us/step\n",
      "Epoch 48/50\n",
      "23/23 - 0s - loss: 143.3323 - val_loss: 104.2799 - 18ms/epoch - 773us/step\n",
      "Epoch 49/50\n",
      "23/23 - 0s - loss: 142.0654 - val_loss: 107.8363 - 18ms/epoch - 768us/step\n",
      "Epoch 50/50\n",
      "23/23 - 0s - loss: 141.1763 - val_loss: 97.7230 - 18ms/epoch - 786us/step\n"
     ]
    },
    {
     "data": {
      "text/plain": [
       "<keras.src.callbacks.History at 0x31457fc50>"
      ]
     },
     "execution_count": 32,
     "metadata": {},
     "output_type": "execute_result"
    }
   ],
   "source": [
    "model.fit(predictors, target, validation_split=0.3, epochs=50, verbose=2)"
   ]
  },
  {
   "cell_type": "code",
   "execution_count": 33,
   "metadata": {},
   "outputs": [
    {
     "name": "stdout",
     "output_type": "stream",
     "text": [
      "33/33 [==============================] - 0s 276us/step - loss: 128.1591\n"
     ]
    }
   ],
   "source": [
    "loss_val = model.evaluate(predictors, target)"
   ]
  },
  {
   "cell_type": "code",
   "execution_count": 34,
   "metadata": {},
   "outputs": [
    {
     "name": "stdout",
     "output_type": "stream",
     "text": [
      "Loss Value:  128.1591033935547\n"
     ]
    }
   ],
   "source": [
    "print(\"Loss Value: \", loss_val)\n"
   ]
  }
 ],
 "metadata": {
  "kernelspec": {
   "display_name": "Python 3",
   "language": "python",
   "name": "python3"
  },
  "language_info": {
   "codemirror_mode": {
    "name": "ipython",
    "version": 3
   },
   "file_extension": ".py",
   "mimetype": "text/x-python",
   "name": "python",
   "nbconvert_exporter": "python",
   "pygments_lexer": "ipython3",
   "version": "3.11.4"
  }
 },
 "nbformat": 4,
 "nbformat_minor": 2
}
